{
 "cells": [
  {
   "cell_type": "markdown",
   "id": "ed12405f-c3e2-4950-81ed-1173f268cdd5",
   "metadata": {},
   "source": [
    "# Grid File creation"
   ]
  },
  {
   "cell_type": "markdown",
   "id": "44806455-4fc1-4339-9e87-98b2948e09bd",
   "metadata": {},
   "source": [
    "This script creates a grid.out file for starting\n",
    "from external files with PLUTO 4.0.0."
   ]
  },
  {
   "cell_type": "code",
   "execution_count": 1,
   "id": "286f5bd2-71e7-4509-aa2a-715458264fc9",
   "metadata": {},
   "outputs": [],
   "source": [
    "import numpy as np\n",
    "import datetime"
   ]
  },
  {
   "cell_type": "markdown",
   "id": "9b0229fd-919d-41c3-a650-dd3f34c452e7",
   "metadata": {},
   "source": [
    "Set these.\n",
    "__________________________ \n",
    "\n",
    "\n",
    "The output file,"
   ]
  },
  {
   "cell_type": "code",
   "execution_count": 2,
   "id": "5b5dbe7a-09e9-410f-8761-ba14c846b308",
   "metadata": {},
   "outputs": [],
   "source": [
    "fname = 'grid_in.out'"
   ]
  },
  {
   "cell_type": "markdown",
   "id": "40976eb7-0fb3-4b35-9260-eff79f426383",
   "metadata": {},
   "source": [
    "All the data needed to write. Ghost cells are ignored."
   ]
  },
  {
   "cell_type": "code",
   "execution_count": 3,
   "id": "fb045077-9093-465f-acef-5a056dbb90bd",
   "metadata": {},
   "outputs": [],
   "source": [
    "dim, geom = 3, 'CARTESIAN'\n",
    "x1_beg, x1_end, nx1, ngh1 = -0.8, 0.8, 128, 3\n",
    "x2_beg, x2_end, nx2, ngh2 = -0.8, 0.8, 128, 3\n",
    "x3_beg, x3_end, nx3, ngh3 = 0, 1.6, 128, 3"
   ]
  },
  {
   "cell_type": "markdown",
   "id": "347910ec-815b-41c5-9729-c8eda474c63c",
   "metadata": {},
   "source": [
    "Set automatically.\n",
    "__________________________ \n"
   ]
  },
  {
   "cell_type": "markdown",
   "id": "68205394-68aa-4659-aa24-d57f362c2e19",
   "metadata": {},
   "source": [
    "Date,"
   ]
  },
  {
   "cell_type": "code",
   "execution_count": 4,
   "id": "6bb3c129-f386-45dc-b1e6-bfc8c2c673f9",
   "metadata": {},
   "outputs": [],
   "source": [
    "now = datetime.datetime.now()\n",
    "date = now.strftime('%a %b %d %H:%M:%S %Y')"
   ]
  },
  {
   "cell_type": "markdown",
   "id": "48ebb7d5-48f6-434c-b4f0-d5a213e9b3d2",
   "metadata": {},
   "source": [
    "Total number of cells. Not used. Ghost cells are ignored."
   ]
  },
  {
   "cell_type": "code",
   "execution_count": 5,
   "id": "41d2ceaa-5040-44f5-8568-24c380bfd649",
   "metadata": {},
   "outputs": [],
   "source": [
    "nx1_tot = nx1 + 2 * ngh1\n",
    "nx2_tot = nx2 + 2 * ngh2\n",
    "nx3_tot = nx3 + 2 * ngh3"
   ]
  },
  {
   "cell_type": "markdown",
   "id": "330192c6-a8df-49f8-806c-9b14ec8a08b8",
   "metadata": {},
   "source": [
    "Cell width,"
   ]
  },
  {
   "cell_type": "code",
   "execution_count": 6,
   "id": "ee79f303-e21f-45e0-8b4c-2ae0dbc34a39",
   "metadata": {},
   "outputs": [],
   "source": [
    "dx1 = (x1_end - x1_beg) / nx1\n",
    "dx2 = (x2_end - x2_beg) / nx1\n",
    "dx3 = (x3_end - x3_beg) / nx1"
   ]
  },
  {
   "cell_type": "markdown",
   "id": "eba21b2c-da9e-4eac-a023-980f271db84c",
   "metadata": {},
   "source": [
    "Cell edge arrays,"
   ]
  },
  {
   "cell_type": "code",
   "execution_count": 7,
   "id": "d969c0c5-7b26-4941-9cb5-b6075c2dffde",
   "metadata": {},
   "outputs": [],
   "source": [
    "x1_edges = np.linspace(x1_beg, x1_end, nx1 + 1)\n",
    "x2_edges = np.linspace(x2_beg, x2_end, nx2 + 1)\n",
    "x3_edges = np.linspace(x3_beg, x3_end, nx3 + 1)"
   ]
  },
  {
   "cell_type": "markdown",
   "id": "eaa50889-e19c-4399-9bc7-689215d73e78",
   "metadata": {},
   "source": [
    "Cell numbers"
   ]
  },
  {
   "cell_type": "code",
   "execution_count": 8,
   "id": "41bcce4d-232b-4ec2-919f-15d58ea97162",
   "metadata": {},
   "outputs": [],
   "source": [
    "x1_num = np.arange(1, nx1 + 1)\n",
    "x2_num = np.arange(1, nx2 + 1)\n",
    "x3_num = np.arange(1, nx3 + 1)"
   ]
  },
  {
   "cell_type": "markdown",
   "id": "f33ccd93-a190-4fc7-a842-0d84229a6622",
   "metadata": {},
   "source": [
    "Combined array for output"
   ]
  },
  {
   "cell_type": "code",
   "execution_count": 9,
   "id": "0e54fe56-173e-4c8f-b6d3-0636a824063b",
   "metadata": {},
   "outputs": [],
   "source": [
    "x1_arr = np.column_stack((x1_num, x1_edges[:-1], x1_edges[1:]))\n",
    "x2_arr = np.column_stack((x2_num, x2_edges[:-1], x2_edges[1:]))\n",
    "x3_arr = np.column_stack((x3_num, x3_edges[:-1], x3_edges[1:]))\n",
    "fmt = ' %4d %16.8e %16.8e'"
   ]
  },
  {
   "cell_type": "markdown",
   "id": "470bcf86-495b-4bfc-8172-b02bbe919bed",
   "metadata": {},
   "source": [
    "Outuput bit.\n",
    "__________________________ "
   ]
  },
  {
   "cell_type": "code",
   "execution_count": 10,
   "id": "6bac635c-1cea-4930-87f4-ec138bdb97fa",
   "metadata": {},
   "outputs": [],
   "source": [
    "fh = open(fname, 'w')"
   ]
  },
  {
   "cell_type": "markdown",
   "id": "4fc99f3f-798f-466c-a08f-09b59f38d240",
   "metadata": {},
   "source": [
    "The header"
   ]
  },
  {
   "cell_type": "code",
   "execution_count": 11,
   "id": "982a8ee2-c9b4-4556-82c7-7246fd320bd5",
   "metadata": {},
   "outputs": [],
   "source": [
    "outstr = [\n",
    "'# ******************************************************\\n',\n",
    "'# PLUTO 4.0 Grid File\\n',\n",
    "'# Generated on '+date+'\\n',\n",
    "'#\\n',\n",
    "'# DIMENSIONS: '+str(dim)+'\\n',\n",
    "'# GEOMETRY:   '+geom+'\\n',\n",
    "'# X1: ['+format(x1_beg, '>7')+', '+format(x1_end, '>7')+'], '+format(nx1, '>5')+' point(s), '+format(ngh1, '>3')+' ghosts'+'\\n'\n",
    "'# X2: ['+format(x2_beg, '>7')+', '+format(x2_end, '>7')+'], '+format(nx2, '>5')+' point(s), '+format(ngh2, '>3')+' ghosts'+'\\n'\n",
    "'# X3: ['+format(x3_beg, '>7')+', '+format(x3_end, '>7')+'], '+format(nx3, '>5')+' point(s), '+format(ngh3, '>3')+' ghosts'+'\\n'\n",
    "'# ******************************************************\\n',\n",
    "]\n",
    "fh.writelines(outstr)\n",
    "fh.close()"
   ]
  },
  {
   "cell_type": "code",
   "execution_count": 12,
   "id": "39356df2-1878-474b-9ea2-3e0de6fbe1d7",
   "metadata": {},
   "outputs": [],
   "source": [
    "fh = open(fname, 'ab')"
   ]
  },
  {
   "cell_type": "markdown",
   "id": "44112e3f-aada-4b36-974d-bf42be77eb22",
   "metadata": {},
   "source": [
    "Write and save it all"
   ]
  },
  {
   "cell_type": "code",
   "execution_count": 13,
   "id": "e8e249b7-a65e-4ae5-85c9-9b20ef444dc2",
   "metadata": {},
   "outputs": [],
   "source": [
    "np.savetxt(fh, np.atleast_1d(nx1), '%d')\n",
    "np.savetxt(fh, x1_arr, fmt)\n",
    "np.savetxt(fh, np.atleast_1d(nx2), '%d')\n",
    "np.savetxt(fh, x2_arr, fmt)\n",
    "np.savetxt(fh, np.atleast_1d(nx3), '%d')\n",
    "np.savetxt(fh, x3_arr, fmt)"
   ]
  },
  {
   "cell_type": "code",
   "execution_count": 14,
   "id": "2a50f62b-f290-4a3a-8b8f-25e339a96b29",
   "metadata": {},
   "outputs": [],
   "source": [
    "fh.close()"
   ]
  }
 ],
 "metadata": {
  "kernelspec": {
   "display_name": "Python 3 (ipykernel)",
   "language": "python",
   "name": "python3"
  },
  "language_info": {
   "codemirror_mode": {
    "name": "ipython",
    "version": 3
   },
   "file_extension": ".py",
   "mimetype": "text/x-python",
   "name": "python",
   "nbconvert_exporter": "python",
   "pygments_lexer": "ipython3",
   "version": "3.9.7"
  }
 },
 "nbformat": 4,
 "nbformat_minor": 5
}
