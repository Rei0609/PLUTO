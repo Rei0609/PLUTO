{
 "cells": [
  {
   "cell_type": "markdown",
   "id": "52f5f70e-bca9-4ecc-9e7d-6549753640ba",
   "metadata": {},
   "source": [
    "# Visualization of the SOD problem\n",
    "\n",
    "This notebook just visualized the **results** from the 1D calculation of a shock tube.\n",
    "\n",
    "We learn how to\n",
    "* Load modules\n",
    "* load the PLKUTO data\n",
    "* plot results\n",
    "\n",
    "This is a [link to google](https://www.google.com)"
   ]
  },
  {
   "cell_type": "code",
   "execution_count": 2,
   "id": "f3e7526c-f9d1-4f59-b96b-2b040a735dd8",
   "metadata": {},
   "outputs": [],
   "source": [
    "import numpy as np\n",
    "import matplotlib.pyplot as plt\n",
    "import pyPLUTO as pp"
   ]
  },
  {
   "cell_type": "markdown",
   "id": "7d906825-8a1d-4fdf-8028-ef65facce72a",
   "metadata": {},
   "source": [
    "## Load PLUTO data"
   ]
  },
  {
   "cell_type": "code",
   "execution_count": 37,
   "id": "6303a8eb-2898-40d0-8829-ccf10e94527a",
   "metadata": {},
   "outputs": [
    {
     "name": "stdout",
     "output_type": "stream",
     "text": [
      "Reading single data file : /media/sf_research/dev/PLUTO/Test_Problems/HD/Sod/data.0000.dbl\n",
      "Reading single data file : /media/sf_research/dev/PLUTO/Test_Problems/HD/Sod/data.0001.dbl\n",
      "Reading single data file : /media/sf_research/dev/PLUTO/Test_Problems/HD/Sod/data.0002.dbl\n",
      "Reading single data file : /media/sf_research/dev/PLUTO/Test_Problems/HD/Sod/data.0003.dbl\n",
      "Reading single data file : /media/sf_research/dev/PLUTO/Test_Problems/HD/Sod/data.0004.dbl\n",
      "Reading single data file : /media/sf_research/dev/PLUTO/Test_Problems/HD/Sod/data.0005.dbl\n",
      "Reading single data file : /media/sf_research/dev/PLUTO/Test_Problems/HD/Sod/data.0006.dbl\n",
      "Reading single data file : /media/sf_research/dev/PLUTO/Test_Problems/HD/Sod/data.0007.dbl\n",
      "Reading single data file : /media/sf_research/dev/PLUTO/Test_Problems/HD/Sod/data.0008.dbl\n",
      "Reading single data file : /media/sf_research/dev/PLUTO/Test_Problems/HD/Sod/data.0009.dbl\n",
      "Reading single data file : /media/sf_research/dev/PLUTO/Test_Problems/HD/Sod/data.0010.dbl\n",
      "Reading single data file : /media/sf_research/dev/PLUTO/Test_Problems/HD/Sod/data.0011.dbl\n",
      "Reading single data file : /media/sf_research/dev/PLUTO/Test_Problems/HD/Sod/data.0012.dbl\n",
      "Reading single data file : /media/sf_research/dev/PLUTO/Test_Problems/HD/Sod/data.0013.dbl\n",
      "Reading single data file : /media/sf_research/dev/PLUTO/Test_Problems/HD/Sod/data.0014.dbl\n",
      "Reading single data file : /media/sf_research/dev/PLUTO/Test_Problems/HD/Sod/data.0015.dbl\n",
      "Reading single data file : /media/sf_research/dev/PLUTO/Test_Problems/HD/Sod/data.0016.dbl\n",
      "Reading single data file : /media/sf_research/dev/PLUTO/Test_Problems/HD/Sod/data.0017.dbl\n",
      "Reading single data file : /media/sf_research/dev/PLUTO/Test_Problems/HD/Sod/data.0018.dbl\n",
      "Reading single data file : /media/sf_research/dev/PLUTO/Test_Problems/HD/Sod/data.0019.dbl\n",
      "Reading single data file : /media/sf_research/dev/PLUTO/Test_Problems/HD/Sod/data.0020.dbl\n"
     ]
    }
   ],
   "source": [
    "nout = 20\n",
    "for i in range(nout+1):\n",
    "    data = pp.pload.pload(i)\n",
    "\n",
    "    plt.plot(data.x1, data.rho, label='density')\n",
    "    plt.plot(data.x1, data.vx1, label='velocity')\n",
    "    plt.plot(data.x1, data.prs, label='pressure')\n",
    "    plt.legend()\n",
    "    plt.xlabel('x')\n",
    "    plt.ylabel('value')\n",
    "    \n",
    "    plt.savefig(f'vars-{i:0>4d}.png', dpi=300)\n",
    "    \n",
    "    plt.close(plt.gcf())\n",
    "    \n",
    "    #plt.imshow()\n",
    "    "
   ]
  },
  {
   "cell_type": "code",
   "execution_count": 28,
   "id": "5bdd1f8a-dc55-411b-84f8-93d2ee799197",
   "metadata": {},
   "outputs": [
    {
     "name": "stdout",
     "output_type": "stream",
     "text": [
      "Reading single data file : /media/sf_research/dev/PLUTO/Test_Problems/HD/Sod/data.0001.dbl\n"
     ]
    }
   ],
   "source": [
    "data = pp.pload.pload(1)"
   ]
  },
  {
   "cell_type": "code",
   "execution_count": 31,
   "id": "928e2687-8b20-4ecc-a4c9-8ad1eb31abd4",
   "metadata": {},
   "outputs": [
    {
     "data": {
      "text/plain": [
       "Text(0, 0.5, 'value')"
      ]
     },
     "execution_count": 31,
     "metadata": {},
     "output_type": "execute_result"
    },
    {
     "data": {
      "image/png": "[encoded data removed]",
      "text/plain": [
       "<Figure size 432x288 with 1 Axes>"
      ]
     },
     "metadata": {
      "needs_background": "light"
     },
     "output_type": "display_data"
    }
   ],
   "source": [
    "plt.plot(data.x1, data.rho, label='density')\n",
    "plt.plot(data.x1, data.vx1, label='velocity')\n",
    "plt.plot(data.x1, data.prs, label='pressure')\n",
    "plt.legend()\n",
    "plt.xlabel('x')\n",
    "plt.ylabel('value')"
   ]
  },
  {
   "cell_type": "code",
   "execution_count": null,
   "id": "79d9c7df-8db2-4e23-bbbc-630e6132b58e",
   "metadata": {},
   "outputs": [],
   "source": []
  }
 ],
 "metadata": {
  "kernelspec": {
   "display_name": "Python 3",
   "language": "python",
   "name": "python3"
  },
  "language_info": {
   "codemirror_mode": {
    "name": "ipython",
    "version": 3
   },
   "file_extension": ".py",
   "mimetype": "text/x-python",
   "name": "python",
   "nbconvert_exporter": "python",
   "pygments_lexer": "ipython3",
   "version": "3.8.8"
  }
 },
 "nbformat": 4,
 "nbformat_minor": 5
}
